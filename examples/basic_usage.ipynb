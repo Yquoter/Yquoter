{
 "cells": [
  {
   "cell_type": "markdown",
   "id": "a2097ac2-e2d4-4788-90e2-c5b292886767",
   "metadata": {},
   "source": [
    "# Yquoter: Unified Financial Data Interface - Basic Usage\n",
    "## Introduction\n",
    "Welcome to the basic usage guide for Yquoter, a comprehensive toolkit designed to unify and analyze financial data from CN/HK/US markets, leveraging multiple sources including custom spiders and TuShare.\n",
    "\n",
    "This notebook demonstrates the core functionality of the public API.\n",
    "\n",
    "> Version: 0.3.0\n",
    "> --------------\n",
    "> Attention! From v0.3.0, all core operations are now methods of the `Stock` class.\n",
    "  \n",
    "## 1. Environment Setup and Configuration\n",
    "This section covers necessary setup steps, including importing the library, initializing external dependencies (like TuShare), and configuring internal settings (like data sources and caching).\n",
    "**Imports**"
   ]
  },
  {
   "cell_type": "code",
   "execution_count": null,
   "id": "ce59c92abf97b4e4",
   "metadata": {},
   "outputs": [],
   "source": [
    "import pandas as pd\n",
    "import warnings\n",
    "import os\n",
    "from yquoter import (\n",
    "    init_tushare,\n",
    "    init_cache_manager,\n",
    "    register_source,\n",
    "    set_default_source,\n",
    "    get_newest_df_path,\n",
    "    # The functions below will be  removed in v1.0.0\n",
    "    get_stock_profile,\n",
    "    get_stock_history,\n",
    "    get_ma_n,\n",
    "    get_boll_n,\n",
    "    get_max_drawdown,\n",
    "    get_vol_ratio,\n",
    "    get_rsi_n,\n",
    "    get_stock_realtime,\n",
    "    get_stock_financials,\n",
    "    get_stock_factors,\n",
    "    get_rv_n,\n",
    "    generate_stock_report\n",
    ")\n",
    "\n",
    "# Configuration for display\n",
    "pd.set_option('display.max_columns', None)\n",
    "warnings.filterwarnings('ignore', category=FutureWarning)\n",
    "\n",
    "print(\"Yquoter modules imported successfully.\")"
   ]
  },
  {
   "cell_type": "code",
   "execution_count": null,
   "id": "658e3b00-f34d-4071-b24b-3350d50be079",
   "metadata": {},
   "outputs": [],
   "source": [
    "# We only show how to use the new class 'Stock' here, more details please read the content below.\n",
    "from yquoter import Stock\n",
    "\n",
    "#  Initialize a Stock object for a Chinese market stock (SHA: 600779)\n",
    "a = Stock(market='cn', code='600779', loader='spider')\n",
    "df_1 = a.get_history(start_date='2025-9-01', end_date='2025-9-30', klt=101, flt=1, fields='basic')\n",
    "df_2 = a.get_ma(start_date='2025-8-17', end_date='2025-10-1', n=20)\n",
    "\n",
    "# Another example\n",
    "df_3 = Stock(market='us', code='AAPL', loader='spider').get_realtime()\n",
    "\n",
    "# A new function in this version: Generate a stock analysis report and save it\n",
    "report = a.get_report(start_date='2025-8-17', end_date='2025_8_31', language='cn', output_dir='out')"
   ]
  },
  {
   "cell_type": "markdown",
   "id": "7496d2335d0669cc",
   "metadata": {},
   "source": [
    "**Configure External Services and Cache**"
   ]
  },
  {
   "cell_type": "code",
   "execution_count": null,
   "id": "bef5f55a16373e93",
   "metadata": {},
   "outputs": [],
   "source": [
    "# Set up TuShare API token. This is essential if you rely on TuShare for data.\n",
    "# Replace 'YOUR_TUSHARE_TOKEN' with your actual token.\n",
    "TUSHARE_TOKEN = 'YOUR_TUSHARE_TOKEN'\n",
    "init_tushare(token=TUSHARE_TOKEN)\n",
    "print(f\"TuShare initialized.\")\n",
    "\n",
    "\n",
    "# Register a custom data source or module (e.g., if you have a custom spider)\n",
    "# Since the actual implementation of the custom source is not available, we use placeholders.\n",
    "# register_source(source_name='my_spider', func_type='realtime')\n",
    "\n",
    "# Set the maximum number of entries to keep in the cache to manage memory/disk space.\n",
    "MAX_CACHE_ENTRIES = 100\n",
    "init_cache_manager(MAX_CACHE_ENTRIES)\n",
    "print(f\"Cache limit set to {MAX_CACHE_ENTRIES} entries.\")"
   ]
  },
  {
   "cell_type": "markdown",
   "id": "33e17ab65009742",
   "metadata": {},
   "source": [
    "## 2. Core Data Acquisition\n",
    "We will use `Kweichow Moutai (600519)` as the example stock for the Chinese A-share market.\n",
    "\n",
    "### 2.1. Stock Profile (Static Information)\n",
    "**Retrieve static profile information (code, name, industry, main business, etc.).**"
   ]
  },
  {
   "cell_type": "code",
   "execution_count": null,
   "id": "9c4129d8a6220faa",
   "metadata": {},
   "outputs": [],
   "source": [
    "STOCK_CODE = \"600519\"\n",
    "MARKET = \"CN\"\n",
    "\n",
    "print(f\"--- Fetching Profile for {STOCK_CODE} ---\")\n",
    "\n",
    "# get_stock_profile(code, market, source)\n",
    "profile_df = get_stock_profile(code=STOCK_CODE, market=MARKET)\n",
    "\n",
    "# Display main business with truncation for better notebook formatting\n",
    "if not profile_df.empty and 'MAIN_BUSINESS' in profile_df.columns:\n",
    "    profile_df['MAIN_BUSINESS_SHOT'] = profile_df['MAIN_BUSINESS'].str[:80] + '...'\n",
    "    display_cols = ['CODE', 'NAME', 'INDUSTRY', 'LISTING_DATE', 'MAIN_BUSINESS_SHOT']\n",
    "    display(profile_df[display_cols])\n",
    "else:\n",
    "    display(profile_df)"
   ]
  },
  {
   "cell_type": "markdown",
   "id": "7cb76964de23004e",
   "metadata": {},
   "source": [
    "### 2.2. Historical and Realtime Data (OHLCV)\n",
    "**Retrieve daily historical data and the latest trade information.**"
   ]
  },
  {
   "cell_type": "code",
   "execution_count": null,
   "id": "6c7367e257fa6fa0",
   "metadata": {},
   "outputs": [],
   "source": [
    "# get_stock_history(market, code, start, end, klt, fqt, fields, source)\n",
    "# klt could be in str (such as \"d\", \"M\") or in int (from 101 to 105)\n",
    "START_DATE = '20230101'\n",
    "END_DATE = '20240930'\n",
    "\n",
    "# Generate an analysis report\n",
    "report = generate_stock_report(market=MARKET, code=STOCK_CODE, start=START_DATE, end=END_DATE, language='en', output_dir='out')\n",
    "\n",
    "print(f\"--- Fetching Historical Data ({START_DATE} to {END_DATE}) ---\")\n",
    "history_df = get_stock_history(\n",
    "    market=MARKET, \n",
    "    code=STOCK_CODE, \n",
    "    start=START_DATE, \n",
    "    end=END_DATE,\n",
    "    klt=\"d\"\n",
    ")  # You can also add a param, fields, which can be \"basic\" or \"full\". \n",
    "\n",
    "print(f\"Total {len(history_df)} historical records retrieved.\")\n",
    "display(history_df.head(5))\n",
    "\n",
    "\n",
    "print(f\"\\n--- Fetching Realtime Data for {STOCK_CODE} ---\")\n",
    "# You can also get Realtime data of different code (which must be in the same market) by passing a list of codes.\n",
    "# get_stock_realtime(market, codes, fields, source) \n",
    "realtime_df = get_stock_realtime(market=MARKET, codes=STOCK_CODE)\n",
    "display(realtime_df)"
   ]
  },
  {
   "cell_type": "markdown",
   "id": "d173120dfc01fc09",
   "metadata": {},
   "source": [
    "### 2.3. Financial Statements and Fundamental Factors\n",
    "**Retrieve periodic financial statements (e.g., quarterly) and calculated fundamental factors.**"
   ]
  },
  {
   "cell_type": "code",
   "execution_count": null,
   "id": "73fa0447d7097b64",
   "metadata": {},
   "outputs": [],
   "source": [
    "# get_stock_financials(market, code, end_day, report_type, limit, source)\n",
    "# Example: Quarterly Income Statement (LRB)\n",
    "print(f\"--- Fetching Latest 4 Quarterly Income Statements (LRB) ---\")\n",
    "financials_df = get_stock_financials(\n",
    "    market=MARKET, \n",
    "    code=STOCK_CODE, \n",
    "    end_day=END_DATE,\n",
    "    report_type='LRB', \n",
    "    limit=4\n",
    ")\n",
    "display(financials_df[['REPORT_DATE', 'TOTAL_OPERATE_INCOME', 'PARENT_NETPROFIT']])\n",
    "\n",
    "\n",
    "# get_stock_factors(market, code, trade_date, source)\n",
    "# This version only can get some certain factors, and more options will be supported in the next version.\n",
    "print(f\"\\n--- Fetching Factors ---\")\n",
    "factors_df = get_stock_factors(\n",
    "    code=STOCK_CODE, \n",
    "    market=MARKET, \n",
    "    trade_date='20240930'\n",
    ")\n",
    "display(factors_df.tail(5))"
   ]
  },
  {
   "cell_type": "markdown",
   "id": "f187b4736eb1b30b",
   "metadata": {},
   "source": [
    "## 3. Technical Indicators and Analysis\n",
    "**Using the historical data fetched in Section 2.2, we demonstrate how to use the built-in technical analysis functions.**"
   ]
  },
  {
   "cell_type": "code",
   "execution_count": null,
   "id": "a608b1ccbf93d57e",
   "metadata": {},
   "outputs": [],
   "source": [
    "if 'close' in history_df.columns:\n",
    "    \n",
    "    # 3.1. Moving Average (MA)\n",
    "    # You can use the below function without a param because it will auto-matching the latest local cache.\n",
    "    # Only passing a df is also allowed.\n",
    "    # get_ma_n (market=None, code=None, start=None, end=None, n=5, df=None) \n",
    "    print(\"--- Calculating 20-Day Moving Average (MA20) ---\")\n",
    "    ma_df = get_ma_n(n=20, df=history_df.copy())\n",
    "    display(ma_df[['date', 'MA20']].tail(5))\n",
    "\n",
    "\n",
    "    # 3.2. Bollinger Bands (BOLL)\n",
    "    # get_boll_n (market=None, code=None, start=None, end=None, n=20, df=None)\n",
    "    print(\"\\n--- Calculating 20-Day Bollinger Bands ---\")\n",
    "    boll_df = get_boll_n(n=20, df=history_df.copy())\n",
    "    display(boll_df[['date', 'upper', 'mid', 'lower']].tail(5))\n",
    "    \n",
    "    \n",
    "    # 3.3. Relative Strength Index (RSI)\n",
    "    # get_rsi_n(market=None, code=None,start=None, end=None, n=5, df=None)\n",
    "    print(\"\\n--- Calculating 14-Day Relative Strength Index (RSI14) ---\")\n",
    "    rsi_df = get_rsi_n(n=14, df=history_df.copy())\n",
    "    display(rsi_df[['date', 'RSI14']].tail(5))\n",
    "\n",
    "    # 3.4. Rolling Volatility (RV)\n",
    "    # get_rv_n(market=None, code=None, start=None, end=None, n=5, df=None)\n",
    "    print(\"\\n--- Calculating 5-Day Rolling Volatility (RV5) ---\")\n",
    "    rv_df = get_rv_n(n=5, df=history_df.copy())\n",
    "    # Assuming the output column is standardized as 'RV_5' for display consistency\n",
    "    display(rv_df[['date', 'RV5']].tail(5))\n",
    "\n",
    "else:\n",
    "    print(\"Historical data not available or missing 'close' column for analysis.\")"
   ]
  },
  {
   "cell_type": "markdown",
   "id": "6b2293eee1c0f58f",
   "metadata": {},
   "source": [
    "## 4. Utility and Risk Metrics\n",
    "**Demonstrate utility functions for risk assessment and file management.**"
   ]
  },
  {
   "cell_type": "code",
   "execution_count": null,
   "id": "418bf867f16ac857",
   "metadata": {},
   "outputs": [],
   "source": [
    "# 4.1. Max Drawdown\n",
    "# get_max_drawdown(market=None, code=None, start=None, end=None, n=5, df=None)\n",
    "print(\"--- Calculating Maximum Drawdown (Based on Close Price) ---\")\n",
    "if 'close' in history_df.columns:\n",
    "    max_dd = get_max_drawdown(history_df)\n",
    "    print(f\"Maximum Drawdown occurred: {max_dd['max_drawdown_peak_date'].iloc[0]} to {max_dd['max_drawdown_trough_date'].iloc[0]}\")\n",
    "    print(f\"Max Drawdown: {max_dd['max_drawdown']}\")\n",
    "    print(f\"Recovery?: {max_dd['recovery_success']}\")\n",
    "    if max_dd['recovery_success'] :\n",
    "        print(f\"Recovery days: {max_dd['recovery_days']}\")\n",
    "        print(f\"Recovery date: {max_dd['recovery_date']}\")\n",
    "\n",
    "else:\n",
    "    print(\"Cannot calculate Max Drawdown: 'close' column is missing.\")\n",
    "\n",
    "\n",
    "# 4.2. Volume Ratio\n",
    "# get_vol_ratio(market=None, code=None, start=None, end=None, n=20, df=None)\n",
    "print(\"\\n--- Calculating 10-Day Volume Ratio (VS previous 10 days) ---\")\n",
    "if 'vol' in history_df.columns:\n",
    "    vol_ratio_df = get_vol_ratio(n=10, df=history_df.copy())\n",
    "    display(vol_ratio_df[['date', 'vol_ratio10']].tail(5))\n",
    "else:\n",
    "    print(\"Cannot calculate Volume Ratio: 'vol' column is missing.\")\n",
    "\n",
    "\n",
    "# 4.3. Cache and File Path Utility\n",
    "# get_newest_df_path()\n",
    "print(\"\\n--- Retrieving Newest Cache File Path (Utility) ---\")\n",
    "# Example: Get the path of the latest cache file.\n",
    "try:\n",
    "    cache_path = get_newest_df_path()\n",
    "    print(f\"Cache path for historical data: {cache_path}\")\n",
    "    if os.path.exists(cache_path):\n",
    "        print(\"File exists locally.\")\n",
    "    else:\n",
    "        print(\"File does not exist locally yet (or cache is disabled).\")\n",
    "except Exception as e:\n",
    "    print(f\"Error retrieving cache path: {e}\")"
   ]
  }
 ],
 "metadata": {
  "kernelspec": {
   "display_name": "Python 3 (ipykernel)",
   "language": "python",
   "name": "python3"
  },
  "language_info": {
   "codemirror_mode": {
    "name": "ipython",
    "version": 3
   },
   "file_extension": ".py",
   "mimetype": "text/x-python",
   "name": "python",
   "nbconvert_exporter": "python",
   "pygments_lexer": "ipython3",
   "version": "3.10.16"
  }
 },
 "nbformat": 4,
 "nbformat_minor": 5
}
